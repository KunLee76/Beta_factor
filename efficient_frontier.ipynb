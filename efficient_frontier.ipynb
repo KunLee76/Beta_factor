{
 "cells": [
  {
   "cell_type": "code",
   "execution_count": 1,
   "metadata": {
    "id": "ZqUPyUboEX8N"
   },
   "outputs": [],
   "source": [
    "import yfinance as yf\n",
    "import numpy as np\n",
    "import pandas as pd\n",
    "import matplotlib.pyplot as plt\n",
    "from scipy.optimize import minimize\n"
   ]
  },
  {
   "cell_type": "code",
   "execution_count": null,
   "metadata": {
    "id": "wCCTofj4GRwO"
   },
   "outputs": [],
   "source": [
    "# 計算組合績效：期望回報和風險\n",
    "def portfolio_performance(weights, mean_returns, cov_matrix):\n",
    "    returns = np.dot(weights, mean_returns)\n",
    "    std = np.sqrt(np.dot(weights.T, np.dot(cov_matrix, weights)))\n",
    "    return returns, std"
   ]
  },
  {
   "cell_type": "code",
   "execution_count": null,
   "metadata": {
    "id": "burGvq12GR-S"
   },
   "outputs": [],
   "source": [
    "# 最小化風險以找到給定回報的最佳組合\n",
    "def minimize_volatility(weights, mean_returns, cov_matrix, target_return):\n",
    "    constraints = ({'type': 'eq', 'fun': lambda x: portfolio_performance(x, mean_returns, cov_matrix)[0] - target_return},\n",
    "                   {'type': 'eq', 'fun': lambda x: np.sum(x) - 1})\n",
    "    bounds = tuple((0, 1) for _ in range(len(mean_returns)))\n",
    "    result = minimize(lambda x: portfolio_performance(x, mean_returns, cov_matrix)[1], weights,\n",
    "                      method='SLSQP', bounds=bounds, constraints=constraints)\n",
    "    return result"
   ]
  },
  {
   "cell_type": "code",
   "execution_count": null,
   "metadata": {
    "id": "BJ9vHRUlGSQO"
   },
   "outputs": [],
   "source": [
    "# 繪製效率前緣\n",
    "def efficient_frontier(mean_returns, cov_matrix, num_portfolios=100):\n",
    "    results = {'returns': [], 'volatility': []}\n",
    "    weights = np.array([1 / len(mean_returns)] * len(mean_returns))\n",
    "    target_returns = np.linspace(mean_returns.min(), mean_returns.max(), num_portfolios)\n",
    "\n",
    "    for target_return in target_returns:\n",
    "        optimized_result = minimize_volatility(weights, mean_returns, cov_matrix, target_return)\n",
    "        if optimized_result.success:\n",
    "            ret, vol = portfolio_performance(optimized_result.x, mean_returns, cov_matrix)\n",
    "            results['returns'].append(ret)\n",
    "            results['volatility'].append(vol)\n",
    "\n",
    "    return results"
   ]
  },
  {
   "cell_type": "code",
   "execution_count": null,
   "metadata": {
    "id": "rcFk9IqEHG8z"
   },
   "outputs": [],
   "source": [
    "# 使用滾動視窗計算效率前緣\n",
    "def rolling_efficient_frontier(stock_symbols, window=120, start_date='2017-01-01', end_date='2023-01-01'):\n",
    "    # 1. 下載所有股票數據並計算日回報率\n",
    "    data = pd.DataFrame()\n",
    "    for symbol in stock_symbols:\n",
    "        stock_data = yf.download(symbol, start=start_date, end=end_date)['Adj Close'].pct_change().dropna()\n",
    "        stock_data.name = symbol\n",
    "        data = pd.concat([data, stock_data], axis=1)\n",
    "\n",
    "    # 2. 滾動計算效率前緣並繪製一張代表圖形\n",
    "    rolling_windows = data.rolling(window=window)\n",
    "    mean_returns_list = []\n",
    "    cov_matrix_list = []\n",
    "    for i in range(window, len(data)):\n",
    "        rolling_data = data.iloc[i - window:i]\n",
    "        mean_returns = rolling_data.mean()\n",
    "        cov_matrix = rolling_data.cov()\n",
    "        mean_returns_list.append(mean_returns)\n",
    "        cov_matrix_list.append(cov_matrix)\n",
    "\n",
    "    # 只畫最後一個rolling的效率前緣\n",
    "    if mean_returns_list and cov_matrix_list:\n",
    "        results = efficient_frontier(mean_returns_list[-1], cov_matrix_list[-1])\n",
    "        plt.figure(figsize=(10, 6))\n",
    "        plt.plot(results['volatility'], results['returns'], marker='o')\n",
    "        plt.xlabel('Volatility (Risk)')\n",
    "        plt.ylabel('Expected Return')\n",
    "        plt.title('Efficient Frontier (Representative)')\n",
    "        plt.grid(True)\n",
    "        plt.show()"
   ]
  },
  {
   "cell_type": "code",
   "execution_count": null,
   "metadata": {
    "id": "IPKZZobpGICG"
   },
   "outputs": [],
   "source": [
    "# 計算並繪製效率前緣\n",
    "rolling_efficient_frontier(['2330.TW', '2317.TW', '2603.TW'])"
   ]
  }
 ],
 "metadata": {
  "colab": {
   "provenance": []
  },
  "kernelspec": {
   "display_name": "Python 3",
   "name": "python3"
  },
  "language_info": {
   "codemirror_mode": {
    "name": "ipython",
    "version": 3
   },
   "file_extension": ".py",
   "mimetype": "text/x-python",
   "name": "python",
   "nbconvert_exporter": "python",
   "pygments_lexer": "ipython3",
   "version": "3.12.7"
  }
 },
 "nbformat": 4,
 "nbformat_minor": 0
}
